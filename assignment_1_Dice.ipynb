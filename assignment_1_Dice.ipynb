{
 "cells": [
  {
   "cell_type": "code",
   "execution_count": 3,
   "metadata": {},
   "outputs": [
    {
     "name": "stdout",
     "output_type": "stream",
     "text": [
      "You rolled a 3\n",
      "You rolled a 5\n",
      "You rolled a 6\n",
      "You rolled a 4\n",
      "You rolled a 3\n",
      "Thanks for playing\n"
     ]
    }
   ],
   "source": [
    "import random\n",
    "\n",
    "def roll(sides = 6) :\n",
    "    num_rolled = random.randint(1, sides)\n",
    "    return num_rolled\n",
    "\n",
    "\n",
    "def main() :\n",
    "    side = 6\n",
    "    rolling = True\n",
    "    while rolling:\n",
    "        roll_again = input(\"ready to roll? Enter=Roll. Q=Quit\")\n",
    "        if roll_again.lower() != \"q\" :\n",
    "            num_rolled = roll(side)\n",
    "            print(\"You rolled a\", num_rolled)\n",
    "        else:\n",
    "            rolling = False\n",
    "\n",
    "            \n",
    "    print(\"Thanks for playing\")\n",
    "\n",
    "main()\n",
    "\n"
   ]
  },
  {
   "cell_type": "code",
   "execution_count": 22,
   "metadata": {},
   "outputs": [],
   "source": [
    "def main():\n",
    "    user_input = input(\"Ready to roll ? ENTER=Roll. Q=Quit.\")\n",
    "    if user_input.lower() != 'q':\n",
    "        num_rolled = roll(6)\n",
    "        print(\"you rolled a\",num_rolled)\n",
    "        return\n",
    "    else:\n",
    "        print(\"Thanks for playing dice game\")\n",
    "        return"
   ]
  },
  {
   "cell_type": "code",
   "execution_count": 20,
   "metadata": {},
   "outputs": [
    {
     "name": "stdout",
     "output_type": "stream",
     "text": [
      "You rolled 3\n",
      "Do you want to roll again? Y/N\n"
     ]
    }
   ],
   "source": [
    "import random\n",
    "repeat = True\n",
    "while repeat:\n",
    "    print(\"You rolled\",random.randint(1,6))\n",
    "    print(\"Do you want to roll again? Y/N\")\n",
    "    repeat = \"Y\" in input()"
   ]
  },
  {
   "cell_type": "code",
   "execution_count": 23,
   "metadata": {},
   "outputs": [
    {
     "name": "stdout",
     "output_type": "stream",
     "text": [
      "1 5\n",
      "6 2\n",
      "Good-bye!\n"
     ]
    }
   ],
   "source": [
    "import random\n",
    "\n",
    "question = input('Would you like to roll the dice [y/n]?\\n')\n",
    "\n",
    "while question != 'n':\n",
    "    if question == 'y':\n",
    "        dice1 = random.randint(1, 6)\n",
    "        dice2 = random.randint(1, 6)\n",
    "        print(dice1, dice2)\n",
    "        question = input('Would you like to roll the dice [y/n]?\\n')\n",
    "    else:\n",
    "        print('Invalid response. Please type \"y\" or \"n\".')\n",
    "        question = input('Would you like to roll the dice [y/n]?\\n')        \n",
    "\n",
    "print('Good-bye!')"
   ]
  },
  {
   "cell_type": "code",
   "execution_count": 2,
   "metadata": {},
   "outputs": [
    {
     "name": "stdout",
     "output_type": "stream",
     "text": [
      "Let's roll the dice!\n",
      "The Values are :\n",
      "4\n",
      "4\n",
      "Thanks for playing!\n"
     ]
    }
   ],
   "source": [
    "#importing module for random number generation\n",
    "import random\n",
    "\n",
    "#range of the values of a dice\n",
    "min_val = 1\n",
    "max_val = 6\n",
    "\n",
    "#to loop the rolling through user input\n",
    "roll_again = \"yes\"\n",
    "\n",
    "#loop\n",
    "while roll_again == \"yes\" or roll_again == \"y\":\n",
    "    print(\"Let's roll the dice!\")\n",
    "    print(\"The Values are :\")\n",
    "    \n",
    "    #generating and printing 1st random integer from 1 to 6\n",
    "    print(random.randint(min_val, max_val))\n",
    "    \n",
    "    #generating and printing 2nd random integer from 1 to 6\n",
    "    print(random.randint(min_val, max_val))\n",
    "    \n",
    "    #asking user to roll the dice again. Any input other than yes or y will terminate the loop\n",
    "    roll_again = input(\"Roll the Dices Again?\") \n",
    "\n",
    "    \n",
    "    print(\"Thanks for playing!\")"
   ]
  }
 ],
 "metadata": {
  "interpreter": {
   "hash": "aee8b7b246df8f9039afb4144a1f6fd8d2ca17a180786b69acc140d282b71a49"
  },
  "kernelspec": {
   "display_name": "Python 3.10.4 64-bit",
   "language": "python",
   "name": "python3"
  },
  "language_info": {
   "codemirror_mode": {
    "name": "ipython",
    "version": 3
   },
   "file_extension": ".py",
   "mimetype": "text/x-python",
   "name": "python",
   "nbconvert_exporter": "python",
   "pygments_lexer": "ipython3",
   "version": "3.10.4"
  },
  "orig_nbformat": 4
 },
 "nbformat": 4,
 "nbformat_minor": 2
}
