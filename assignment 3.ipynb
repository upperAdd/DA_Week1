{
 "cells": [
  {
   "cell_type": "code",
   "execution_count": 1,
   "metadata": {},
   "outputs": [
    {
     "name": "stdout",
     "output_type": "stream",
     "text": [
      "Roses are violet\n",
      "curtain are blue\n",
      "I love donald duck\n"
     ]
    }
   ],
   "source": [
    "color = input(\"Enter a color: \")\n",
    "pluralNoun = input(\"Enter a plural noun: \")\n",
    "celebrity = input(\"Enter a celebrity: \")\n",
    "\n",
    "print(\"Roses are\", color)\n",
    "print(pluralNoun + \" are blue\")\n",
    "print(\"I love\", celebrity)"
   ]
  },
  {
   "cell_type": "code",
   "execution_count": 2,
   "metadata": {},
   "outputs": [
    {
     "name": "stdout",
     "output_type": "stream",
     "text": [
      "My Trip to Disney World!\n",
      "Last month, I went to Disney World with . We traveled for  hours by sam.\n",
      "Finally, we arrived and it was very anada. There were sasaw people sase everywhere.\n",
      "There were also people dressed up in xcasae costumes.\n",
      "\n",
      "I wish it had been more sasae ,but we saea anyway. We also went on a was ride called Magic vrgs .\n",
      " nearly fell off a ride and had to be d. Later, we went to hotel and sd. Next year, I want to go to adasd , where we can asd.\n"
     ]
    }
   ],
   "source": [
    "# Mad libs template\n",
    "blank1 = input(\"Enter friend's name: \")\n",
    "blank2 = input(\"Enter number hours: \")\n",
    "blank3 = input(\"Enter vehicle: \")\n",
    "blank4 = input(\"Enter adjective word: \")\n",
    "blank5 = input(\"Enter adjective word2: \")\n",
    "blank6 = input(\"Enter -ing verb: \")\n",
    "blank7 = input(\"Enter animal: \")\n",
    "blank8 = input(\"Enter adjective word3: \")\n",
    "blank9 = input(\"Enter past tense verb\")\n",
    "blank10 = input(\"Enter adjectiver word4: \")\n",
    "blank11 = input(\"Enter noun word: \")\n",
    "blank12 = blank1\n",
    "blank13 = input(\"Enter past tense verb: \")\n",
    "blank14 = input(\"Enter past tense verb: \")\n",
    "blank15 = input(\"Enter place: \")\n",
    "blank16 = input(\"Enter verb: \")\n",
    "\n",
    "#Display the story based on the users input\n",
    "print(\"My Trip to Disney World!\")\n",
    "print(\"Last month, I went to Disney World with \" + blank1 +\".\", \"We traveled for \" + blank2 + \" hours\" + \" by \" + blank3 + \".\" )\n",
    "print(\"Finally, we arrived and it was very \" + blank4 + \".\", \"There were \" + blank5 + \" people \" + blank6 + \" everywhere\" + \".\")\n",
    "print(\"There were also people dressed up in \" + blank7 + \" costumes\" + \".\" + \"\\n\")\n",
    "\n",
    "print(\"I wish it had been more \" + blank8 + \" ,\" + \"but we \" + blank9 + \" anyway\" + \".\", \"We also went on a \" + blank10+ \" ride called Magic \" + blank11 +\" .\")\n",
    "print(blank12 + \" nearly fell off a ride and had to be \" + blank13 + \".\", \"Later, we went to hotel and \" + blank14 + \".\", \"Next year, I want to go to \" + blank15 +\" ,\" + \" where we can \" + blank16 + \".\")\n",
    "\n",
    "\n"
   ]
  }
 ],
 "metadata": {
  "interpreter": {
   "hash": "aee8b7b246df8f9039afb4144a1f6fd8d2ca17a180786b69acc140d282b71a49"
  },
  "kernelspec": {
   "display_name": "Python 3.10.4 64-bit",
   "language": "python",
   "name": "python3"
  },
  "language_info": {
   "codemirror_mode": {
    "name": "ipython",
    "version": 3
   },
   "file_extension": ".py",
   "mimetype": "text/x-python",
   "name": "python",
   "nbconvert_exporter": "python",
   "pygments_lexer": "ipython3",
   "version": "3.10.4"
  },
  "orig_nbformat": 4
 },
 "nbformat": 4,
 "nbformat_minor": 2
}
