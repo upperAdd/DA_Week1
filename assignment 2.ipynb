{
 "cells": [
  {
   "cell_type": "code",
   "execution_count": 1,
   "metadata": {},
   "outputs": [
    {
     "name": "stdout",
     "output_type": "stream",
     "text": [
      "nope, sorry. try again!\n",
      "nope, sorry. try again!\n",
      "nope, sorry. try again!\n",
      "nope, sorry. try again!\n",
      "nope, sorry. try again!\n",
      "nope, sorry. try again!\n",
      "nope, sorry. try again!\n",
      "nope, sorry. try again!\n",
      "nope, sorry. try again!\n",
      "nope, sorry. try again!\n",
      "congratulations! you won!\n",
      "Thank you for playing\n"
     ]
    }
   ],
   "source": [
    "import random\n",
    "\n",
    "number = random.randint(0, 10)\n",
    "guess = None\n",
    "\n",
    "while guess != number:\n",
    "    guess = input(\"guess a number between 0 and 10: \")\n",
    "    guess = int(guess)\n",
    "\n",
    "    if guess == number:\n",
    "        print(\"congratulations! you won!\")\n",
    "        break\n",
    "    else:\n",
    "        print(\"nope, sorry. try again!\")\n",
    "    \n",
    "print(\"Thank you for playing\")"
   ]
  },
  {
   "cell_type": "code",
   "execution_count": 2,
   "metadata": {},
   "outputs": [
    {
     "name": "stdout",
     "output_type": "stream",
     "text": [
      "guess is low\n",
      "guess is low\n",
      "you guessed it!\n",
      "Thank you for playing\n"
     ]
    }
   ],
   "source": [
    "import random\n",
    "\n",
    "number = random.randint(1, 10)\n",
    "guess = int(input(\"Enter an integer from 1 to 10: \"))\n",
    "while number != \"guess\":\n",
    "    print\n",
    "    if guess < number:\n",
    "        print(\"guess is low\")\n",
    "        guess = int(input(\"Enter an integer from 1 to 10: \"))\n",
    "    elif guess > number:\n",
    "        print(\"guess is high\")\n",
    "        guess = int(input(\"Enter an integer from 1 to 10: \"))\n",
    "    else:\n",
    "        print(\"you guessed it!\")\n",
    "        break\n",
    "    print\n",
    "\n",
    "print(\"Thank you for playing\")"
   ]
  }
 ],
 "metadata": {
  "interpreter": {
   "hash": "aee8b7b246df8f9039afb4144a1f6fd8d2ca17a180786b69acc140d282b71a49"
  },
  "kernelspec": {
   "display_name": "Python 3.10.4 64-bit",
   "language": "python",
   "name": "python3"
  },
  "language_info": {
   "codemirror_mode": {
    "name": "ipython",
    "version": 3
   },
   "file_extension": ".py",
   "mimetype": "text/x-python",
   "name": "python",
   "nbconvert_exporter": "python",
   "pygments_lexer": "ipython3",
   "version": "3.10.4"
  },
  "orig_nbformat": 4
 },
 "nbformat": 4,
 "nbformat_minor": 2
}
